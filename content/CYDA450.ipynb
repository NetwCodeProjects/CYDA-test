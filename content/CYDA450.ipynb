{
  "metadata": {
    "kernelspec": {
      "name": "python",
      "display_name": "Python (Pyodide)",
      "language": "python"
    },
    "language_info": {
      "codemirror_mode": {
        "name": "python",
        "version": 3
      },
      "file_extension": ".py",
      "mimetype": "text/x-python",
      "name": "python",
      "nbconvert_exporter": "python",
      "pygments_lexer": "ipython3",
      "version": "3.8"
    }
  },
  "nbformat_minor": 4,
  "nbformat": 4,
  "cells": [
    {
      "cell_type": "markdown",
      "source": "# Alright, CYDA TEST DOC \n---\nI should be able to display this on canvas.",
      "metadata": {}
    },
    {
      "cell_type": "markdown",
      "source": "CYBER DEFENSE AND ANALYSIS",
      "metadata": {}
    },
    {
      "cell_type": "code",
      "source": "a = 19 \nb = 81\n# press the play button\n# or shift + Enter\nprint(a + b) ",
      "metadata": {
        "trusted": true
      },
      "outputs": [
        {
          "name": "stdout",
          "text": "99\n",
          "output_type": "stream"
        }
      ],
      "execution_count": 3
    }
  ]
}