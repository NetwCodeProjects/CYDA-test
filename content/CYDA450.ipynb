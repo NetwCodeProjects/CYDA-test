{
  "metadata": {
    "kernelspec": {
      "name": "python",
      "display_name": "Python (Pyodide)",
      "language": "python"
    },
    "language_info": {
      "codemirror_mode": {
        "name": "python",
        "version": 3
      },
      "file_extension": ".py",
      "mimetype": "text/x-python",
      "name": "python",
      "nbconvert_exporter": "python",
      "pygments_lexer": "ipython3",
      "version": "3.8"
    }
  },
  "nbformat_minor": 4,
  "nbformat": 4,
  "cells": [
    {
      "cell_type": "markdown",
      "source": "# Alright, CYDA TEST DOC \n---\nI should be able to display this on canvas.",
      "metadata": {}
    },
    {
      "cell_type": "markdown",
      "source": "CYBER DEFENSE AND ANALYSIS",
      "metadata": {}
    },
    {
      "cell_type": "code",
      "source": "a = 19 \nb = 80",
      "metadata": {
        "trusted": true
      },
      "outputs": [],
      "execution_count": 2
    },
    {
      "cell_type": "code",
      "source": "print(a + b) #press",
      "metadata": {
        "trusted": true
      },
      "outputs": [],
      "execution_count": null
    }
  ]
}